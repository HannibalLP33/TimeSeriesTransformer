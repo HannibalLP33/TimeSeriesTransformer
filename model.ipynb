{
 "cells": [
  {
   "attachments": {},
   "cell_type": "markdown",
   "metadata": {},
   "source": [
    "# Model Creation and Training"
   ]
  },
  {
   "cell_type": "code",
   "execution_count": null,
   "metadata": {},
   "outputs": [],
   "source": [
    "import pandas as pd\n",
    "import numpy as np\n",
    "import logging\n",
    "import tensorflow as tf\n",
    "from tensorflow.keras import layers\n",
    "from sklearn.model_selection import train_test_split\n",
    "from sklearn.metrics import accuracy_score, precision_score, recall_score\n",
    "\n",
    "logging.basicConfig(filename = \"logs.log\", format = \"%(asctime)s -- %(message)s\", datefmt='%m/%d/%Y %I:%M:%S %p', level = logging.INFO)"
   ]
  },
  {
   "cell_type": "code",
   "execution_count": null,
   "metadata": {},
   "outputs": [],
   "source": [
    "### Convert time to a vector that can be encoded to the features ###\n",
    "class Time2Vector(tf.keras.layers.Layer):\n",
    "    def __init__(self, sequence_len):\n",
    "        super().__init__(trainable = True)\n",
    "        self.sequence_len = sequence_len\n",
    "        \n",
    "    def build(self, input_shape):\n",
    "        ### Time to Vector Piecewise function ###\n",
    "        \n",
    "        self.weights_linear = self.add_weight(shape = (int(self.sequence_len),), initializer = \"uniform\", trainable = True)\n",
    "        self.bias_linear = self.add_weight(shape = (int(self.sequence_len),), initializer = \"uniform\", trainable = True)\n",
    "        self.weights_periodic = self.add_weight(shape = (int(self.sequence_len),), initializer = \"uniform\", trainable = True)\n",
    "        self.bias_periodic = self.add_weight(shape = (int(self.sequence_len),), initializer = \"uniform\", trainable = True)\n",
    "    \n",
    "    def call(self, x):\n",
    "        x = tf.math.reduce_mean(x[:,:,:2], axis = -1)\n",
    "        time_linear = (self.weights_linear * x) + self.bias_linear\n",
    "        time_linear = tf.expand_dims(time_linear, axis = -1) #Expand dimensions to concat later\n",
    "        \n",
    "        time_periodic = tf.math.sin(tf.multiply(x, self.weights_periodic) + self.bias_periodic)\n",
    "        time_periodic = tf.expand_dims(time_periodic, axis = -1)\n",
    "        \n",
    "        final_product = tf.concat([time_linear, time_periodic], axis = -1)\n",
    "        \n",
    "        return final_product\n",
    "        "
   ]
  },
  {
   "cell_type": "code",
   "execution_count": null,
   "metadata": {},
   "outputs": [],
   "source": [
    "### Load_Data ###\n",
    "training_data = pd.read_csv(\"training_data/01Jan2022.csv\")\n",
    "training_data[\"Datetime\"] = training_data[\"Datetime\"].astype(\"datetime64\").astype(int)\n",
    "training_data.set_index(\"Datetime\", inplace=True)\n",
    "training_data.head()\n",
    "percent_positive = (training_data[\"Response\"].sum() / len(training_data)) * 100\n",
    "X = training_data.loc[:, [\"Open\", \"VWAP\"]]\n",
    "y = training_data.loc[:, \"Response\"]\n",
    "X_train, X_test, y_train, y_test = train_test_split(X, y, test_size = 0.2, shuffle = False)\n",
    "\n",
    "logging.info(\"Dataset Upload successfully\")\n",
    "logging.info(f\"X training set shape:{X_train.shape}\")\n",
    "logging.info(f\"y training set shape:{y_train.shape}\")\n",
    "logging.info(f\"X test set shape:{X_test.shape}\")\n",
    "logging.info(f\"y test set shape:{y_test.shape}\")\n",
    "logging.info(f\"Percent Positive Response {round(percent_positive,2)}%\")\n"
   ]
  },
  {
   "cell_type": "code",
   "execution_count": null,
   "metadata": {},
   "outputs": [],
   "source": [
    "### Variables ###\n",
    "y_train = tf.convert_to_tensor(y_train)\n",
    "batch_size = 1400\n",
    "epochs = 100\n",
    "attention_heads = 4\n",
    "projection_dim = 1400\n",
    "dropout = 0.1\n",
    "conv_dim = 4\n",
    "num_transformer_blocks = 8\n",
    "mlp_units = [2048, 1024]\n",
    "tranformer_mlp_units = [projection_dim ** 2, projection_dim]\n"
   ]
  },
  {
   "cell_type": "code",
   "execution_count": null,
   "metadata": {},
   "outputs": [],
   "source": [
    "# def positional_encoding(inputs):\n",
    "#     input_projection = layers.Dense(projection_dim)\n",
    "#     embedding = layers.Embedding(input_dim = 1440, output_dim = projection_dim)\n",
    "#     time_position = tf.range(start = 0, limit = 1440)\n",
    "#     encoded_batch = [input_projection(input) + embedding(time_position) for input in inputs]\n",
    "#     print(tf.convert_to_tensor(encoded_batch))\n",
    "#     return tf.convert_to_tensor(encoded_batch)"
   ]
  },
  {
   "cell_type": "code",
   "execution_count": null,
   "metadata": {},
   "outputs": [],
   "source": [
    "def transformer_encoder(inputs, attention_heads, projection_dim, conv_dim, dropout):\n",
    "    ### Layer Normalization / Multihead Attention Layers ###\n",
    "    x = layers.LayerNormalization(epsilon = 1e-6)(inputs)\n",
    "    x = layers.MultiHeadAttention(num_heads = attention_heads, key_dim = projection_dim, dropout = dropout)(x,x)\n",
    "    skip1 = layers.Add()([x, inputs])\n",
    "    \n",
    "    ### Feed Forward ###\n",
    "    x = layers.LayerNormalization(epsilon = 1e-6)(skip1)\n",
    "    x = layers.Conv1D(filters=conv_dim, kernel_size=1, activation=\"relu\")(x)\n",
    "    x = layers.Dropout(dropout)(x)\n",
    "    x = layers.Conv1D(filters=inputs.shape[-1], kernel_size=1)(x)\n",
    "    skip2 = layers.Add()([x,skip1])\n",
    "    \n",
    "    return skip2"
   ]
  },
  {
   "cell_type": "code",
   "execution_count": null,
   "metadata": {},
   "outputs": [],
   "source": [
    "def build_model():\n",
    "    time_embedding = Time2Vector(batch_size)\n",
    "    \n",
    "    input = tf.keras.Input(shape = (batch_size,X_train.shape[-1]))\n",
    "    x = time_embedding(input)\n",
    "    x = tf.keras.layers.Concatenate(axis = -1)([input, x])\n",
    "    for _ in range(num_transformer_blocks):\n",
    "        x = transformer_encoder(x, attention_heads, projection_dim, conv_dim, dropout)\n",
    "    x = tf.keras.layers.GlobalAveragePooling1D(data_format = \"channels_first\")(x)\n",
    "    x = tf.keras.layers.Dropout(0.1)(x)\n",
    "    x = tf.keras.layers.Dense(64, activation = \"relu\")(x)\n",
    "    x = tf.keras.layers.Dropout(0.1)(x)\n",
    "    output = tf.keras.layers.Dense(1, activation = \"softmax\")(x)\n",
    "    \n",
    "    model = tf.keras.Model(inputs = input, outputs = output)\n",
    "    \n",
    "    model.summary()\n",
    "    return model"
   ]
  },
  {
   "cell_type": "code",
   "execution_count": null,
   "metadata": {},
   "outputs": [],
   "source": [
    "def train_model(model):\n",
    "    optimizer = tf.optimizers.Adam(learning_rate=1e-3, decay = 1e-4)\n",
    "    checkpoint_path = \"/models/\"\n",
    "    checkpoint_callback = tf.keras.callbacks.ModelCheckpoint(checkpoint_path, monitor = \"val_Accuracy\", save_best_only = True, save_weights_only = True)\n",
    "    model.compile(optimizer=optimizer, \n",
    "                  loss = tf.keras.losses.CategoricalCrossentropy(),\n",
    "                  metrics = [tf.keras.metrics.CategoricalAccuracy(name = \"Accuracy\")])\n",
    "    \n",
    "    history = model.fit(\n",
    "        x = X_train,\n",
    "        y = y_train,\n",
    "        batch_size = batch_size,\n",
    "        epochs = epochs,\n",
    "        validation_split = 0.2,\n",
    "        callbacks = [checkpoint_callback],\n",
    "        \n",
    "    )\n",
    "    \n",
    "    return history"
   ]
  },
  {
   "cell_type": "code",
   "execution_count": null,
   "metadata": {},
   "outputs": [],
   "source": [
    "X_train.shape"
   ]
  },
  {
   "cell_type": "code",
   "execution_count": null,
   "metadata": {},
   "outputs": [],
   "source": [
    "X_train = X_train[:420000]"
   ]
  },
  {
   "cell_type": "code",
   "execution_count": null,
   "metadata": {},
   "outputs": [],
   "source": [
    "420000/1400"
   ]
  },
  {
   "cell_type": "code",
   "execution_count": null,
   "metadata": {},
   "outputs": [],
   "source": [
    "X_train = tf.expand_dims(X_train,0)\n",
    "X_train = np.reshape(X_train, (-1,1400,X_train.shape[-1]))"
   ]
  },
  {
   "cell_type": "code",
   "execution_count": null,
   "metadata": {},
   "outputs": [],
   "source": [
    "model = build_model()\n",
    "training = train_model(model)"
   ]
  }
 ],
 "metadata": {
  "kernelspec": {
   "display_name": "Python 3",
   "language": "python",
   "name": "python3"
  },
  "language_info": {
   "codemirror_mode": {
    "name": "ipython",
    "version": 3
   },
   "file_extension": ".py",
   "mimetype": "text/x-python",
   "name": "python",
   "nbconvert_exporter": "python",
   "pygments_lexer": "ipython3",
   "version": "3.9.0"
  },
  "orig_nbformat": 4,
  "vscode": {
   "interpreter": {
    "hash": "aee8b7b246df8f9039afb4144a1f6fd8d2ca17a180786b69acc140d282b71a49"
   }
  }
 },
 "nbformat": 4,
 "nbformat_minor": 2
}
