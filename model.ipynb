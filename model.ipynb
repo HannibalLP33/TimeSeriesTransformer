{
 "cells": [
  {
   "attachments": {},
   "cell_type": "markdown",
   "metadata": {},
   "source": [
    "# Model Creation and Training"
   ]
  },
  {
   "cell_type": "code",
   "execution_count": 3,
   "metadata": {},
   "outputs": [],
   "source": [
    "import pandas as pd\n",
    "import numpy as np\n",
    "import logging\n",
    "import tensorflow as tf\n",
    "from tensorflow.keras import layers\n",
    "from sklearn.model_selection import train_test_split\n",
    "from sklearn.metrics import accuracy_score, precision_score, recall_score\n",
    "\n",
    "logging.basicConfig(filename = \"logs.log\", format = \"%(asctime)s -- %(message)s\", datefmt='%m/%d/%Y %I:%M:%S %p', level = logging.INFO)"
   ]
  },
  {
   "cell_type": "code",
   "execution_count": 7,
   "metadata": {},
   "outputs": [
    {
     "data": {
      "text/html": [
       "<div>\n",
       "<style scoped>\n",
       "    .dataframe tbody tr th:only-of-type {\n",
       "        vertical-align: middle;\n",
       "    }\n",
       "\n",
       "    .dataframe tbody tr th {\n",
       "        vertical-align: top;\n",
       "    }\n",
       "\n",
       "    .dataframe thead th {\n",
       "        text-align: right;\n",
       "    }\n",
       "</style>\n",
       "<table border=\"1\" class=\"dataframe\">\n",
       "  <thead>\n",
       "    <tr style=\"text-align: right;\">\n",
       "      <th></th>\n",
       "      <th>Date</th>\n",
       "      <th>Open</th>\n",
       "      <th>High</th>\n",
       "      <th>Low</th>\n",
       "      <th>Close</th>\n",
       "      <th>Adj Close</th>\n",
       "      <th>Volume</th>\n",
       "    </tr>\n",
       "  </thead>\n",
       "  <tbody>\n",
       "    <tr>\n",
       "      <th>0</th>\n",
       "      <td>2022-03-12</td>\n",
       "      <td>2559.660645</td>\n",
       "      <td>2606.438721</td>\n",
       "      <td>2559.126953</td>\n",
       "      <td>2574.754150</td>\n",
       "      <td>2574.754150</td>\n",
       "      <td>6532996574</td>\n",
       "    </tr>\n",
       "    <tr>\n",
       "      <th>1</th>\n",
       "      <td>2022-03-13</td>\n",
       "      <td>2573.488037</td>\n",
       "      <td>2594.549805</td>\n",
       "      <td>2503.885254</td>\n",
       "      <td>2518.944580</td>\n",
       "      <td>2518.944580</td>\n",
       "      <td>8632000379</td>\n",
       "    </tr>\n",
       "    <tr>\n",
       "      <th>2</th>\n",
       "      <td>2022-03-14</td>\n",
       "      <td>2518.486328</td>\n",
       "      <td>2604.034424</td>\n",
       "      <td>2505.299316</td>\n",
       "      <td>2590.696045</td>\n",
       "      <td>2590.696045</td>\n",
       "      <td>11244398839</td>\n",
       "    </tr>\n",
       "    <tr>\n",
       "      <th>3</th>\n",
       "      <td>2022-03-15</td>\n",
       "      <td>2590.668945</td>\n",
       "      <td>2662.329590</td>\n",
       "      <td>2515.765869</td>\n",
       "      <td>2620.149658</td>\n",
       "      <td>2620.149658</td>\n",
       "      <td>12861105614</td>\n",
       "    </tr>\n",
       "    <tr>\n",
       "      <th>4</th>\n",
       "      <td>2022-03-16</td>\n",
       "      <td>2620.028564</td>\n",
       "      <td>2781.307129</td>\n",
       "      <td>2610.764404</td>\n",
       "      <td>2772.055664</td>\n",
       "      <td>2772.055664</td>\n",
       "      <td>17915109769</td>\n",
       "    </tr>\n",
       "  </tbody>\n",
       "</table>\n",
       "</div>"
      ],
      "text/plain": [
       "         Date         Open         High          Low        Close  \\\n",
       "0  2022-03-12  2559.660645  2606.438721  2559.126953  2574.754150   \n",
       "1  2022-03-13  2573.488037  2594.549805  2503.885254  2518.944580   \n",
       "2  2022-03-14  2518.486328  2604.034424  2505.299316  2590.696045   \n",
       "3  2022-03-15  2590.668945  2662.329590  2515.765869  2620.149658   \n",
       "4  2022-03-16  2620.028564  2781.307129  2610.764404  2772.055664   \n",
       "\n",
       "     Adj Close       Volume  \n",
       "0  2574.754150   6532996574  \n",
       "1  2518.944580   8632000379  \n",
       "2  2590.696045  11244398839  \n",
       "3  2620.149658  12861105614  \n",
       "4  2772.055664  17915109769  "
      ]
     },
     "execution_count": 7,
     "metadata": {},
     "output_type": "execute_result"
    }
   ],
   "source": [
    "training_data = pd.read_csv(\"training_data/Attempt1.csv\")\n",
    "training_data.head()"
   ]
  },
  {
   "cell_type": "code",
   "execution_count": 11,
   "metadata": {},
   "outputs": [],
   "source": [
    "### Load_Data ###\n",
    "training_data = pd.read_csv(\"training_data/Attempt1.csv\")\n",
    "X = training_data.loc[:, [\"Date\", \"Open\"]]\n",
    "y = training_data.loc[:, \"Close\"]\n",
    "X_train, X_test, y_train, y_test = train_test_split(X, y, test_size = 0.2, shuffle = False)\n",
    "logging.info(\"Dataset Upload successfully\")\n",
    "logging.info(f\"X training set shape:{X_train.shape}\")\n",
    "logging.info(f\"y training set shape:{y_train.shape}\")\n",
    "logging.info(f\"X test set shape:{X_test.shape}\")\n",
    "logging.info(f\"y test set shape:{y_test.shape}\")\n"
   ]
  },
  {
   "cell_type": "code",
   "execution_count": null,
   "metadata": {},
   "outputs": [],
   "source": [
    "### Variables ###\n",
    "batch_size = 256\n",
    "epochs = 100\n",
    "attention_heads = 4\n",
    "projection_dim = 128\n",
    "dropout = 0.1\n",
    "conv_dim = 4\n",
    "num_transformer_blocks = 8\n",
    "mlp_units = [2048, 1024]\n",
    "tranformer_mlp_units = [projection_dim ** 2, projection_dim]\n"
   ]
  },
  {
   "cell_type": "code",
   "execution_count": 22,
   "metadata": {},
   "outputs": [],
   "source": [
    "def positional_encoding(inputs):\n",
    "    input_projection = layers.Dense(projection_dim)\n",
    "    embedding = layers.Embedding(input_dim = 1, output_dim = projection_dim)\n",
    "    encoded_batch = []"
   ]
  },
  {
   "cell_type": "code",
   "execution_count": null,
   "metadata": {},
   "outputs": [],
   "source": [
    "def transformer_encoder(inputs, attention_heads, projection_dim, conv_dim, dropout):\n",
    "    ### Layer Normalization / Multihead Attention Layers ###\n",
    "    x = layers.LayerNormalization(epsilon = 1e-6)(inputs)\n",
    "    x = layers.MultiHeadAttention(num_heads = attention_heads, key_dim = projection_dim, dropout = dropout)(x,x)\n",
    "    skip1 = layers.Add()([x, inputs])\n",
    "    \n",
    "    ### Feed Forward ###\n",
    "    x = layers.LayerNormalization(epsilon = 1e-6)(skip1)\n",
    "    x = layers.Conv1D(filters=conv_dim, kernel_size=1, activation=\"relu\")(x)\n",
    "    x = layers.Dropout(dropout)(x)\n",
    "    x = layers.Conv1D(filters=inputs.shape[-1], kernel_size=1)(x)\n",
    "    skip2 = layers.Add()([x,skip1])\n",
    "    \n",
    "    return skip2"
   ]
  },
  {
   "cell_type": "code",
   "execution_count": null,
   "metadata": {},
   "outputs": [],
   "source": [
    "def build_model():\n",
    "    pass"
   ]
  },
  {
   "cell_type": "code",
   "execution_count": null,
   "metadata": {},
   "outputs": [],
   "source": [
    "def train_model(model):\n",
    "    optimizer = tf.optimizers.Adam(learning_rate=1e-3, decay = 1e-4)\n",
    "    checkpoint_path = \"/models/\"\n",
    "    checkpoint_callback = tf.keras.callbacks.ModelCheckpoint(checkpoint_path, monitor = \"val_Accuracy\", save_best_only = True, save_weights_only = True)\n",
    "    model.compile(optimizer=optimizer, \n",
    "                  loss = tf.keras.losses.CategoricalCrossentropy(from_logits=True),\n",
    "                  metrics = [tf.keras.metrics.CategoricalAccuracy(name = \"Accuracy\")])\n",
    "    \n",
    "    history = model.fit(\n",
    "        x = X_train,\n",
    "        y = y_train,\n",
    "        batch_size = batch_size,\n",
    "        epochs = epochs,\n",
    "        validation_split = 0.2,\n",
    "        callbacks = [checkpoint_callback],\n",
    "        \n",
    "    )\n",
    "    \n",
    "    return history"
   ]
  }
 ],
 "metadata": {
  "kernelspec": {
   "display_name": "Python 3",
   "language": "python",
   "name": "python3"
  },
  "language_info": {
   "codemirror_mode": {
    "name": "ipython",
    "version": 3
   },
   "file_extension": ".py",
   "mimetype": "text/x-python",
   "name": "python",
   "nbconvert_exporter": "python",
   "pygments_lexer": "ipython3",
   "version": "3.9.0"
  },
  "orig_nbformat": 4,
  "vscode": {
   "interpreter": {
    "hash": "aee8b7b246df8f9039afb4144a1f6fd8d2ca17a180786b69acc140d282b71a49"
   }
  }
 },
 "nbformat": 4,
 "nbformat_minor": 2
}
