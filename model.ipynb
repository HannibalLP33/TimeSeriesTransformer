{
 "cells": [
  {
   "attachments": {},
   "cell_type": "markdown",
   "metadata": {},
   "source": [
    "# Model Creation and Training"
   ]
  },
  {
   "cell_type": "code",
   "execution_count": 9,
   "metadata": {},
   "outputs": [],
   "source": [
    "import pandas as pd\n",
    "import numpy as np\n",
    "import logging\n",
    "import tensorflow as tf\n",
    "from tensorflow.keras import layers\n",
    "from sklearn.model_selection import train_test_split\n",
    "from sklearn.metrics import accuracy_score, precision_score, recall_score\n",
    "\n",
    "logging.basicConfig(filename = \"logs.log\", format = \"%(asctime)s -- %(message)s\", datefmt='%m/%d/%Y %I:%M:%S %p', level = logging.INFO)"
   ]
  },
  {
   "cell_type": "code",
   "execution_count": 10,
   "metadata": {},
   "outputs": [
    {
     "name": "stdout",
     "output_type": "stream",
     "text": [
      "Dataset Upload successfully\n",
      "X training set shape:(431216, 2)\n",
      "y training set shape:(431216,)\n",
      "X test set shape:(107804, 2)\n",
      "y test set shape:(107804,)\n",
      "Percent Positive Response 41.73%\n"
     ]
    }
   ],
   "source": [
    "### Load_Data ###\n",
    "training_data = pd.read_csv(\"training_data/01Jan2022.csv\")\n",
    "training_data[\"Datetime\"] = training_data[\"Datetime\"].astype(\"datetime64\").astype(int)\n",
    "training_data.set_index(\"Datetime\", inplace=True)\n",
    "training_data.head()\n",
    "percent_positive = (training_data[\"Response\"].sum() / len(training_data)) * 100\n",
    "X = training_data.loc[:, [\"Open\", \"VWAP\"]]\n",
    "y = training_data.loc[:, \"Response\"]\n",
    "X_train, X_test, y_train, y_test = train_test_split(X, y, test_size = 0.2, shuffle = False)\n",
    "\n",
    "logging.info(\"Dataset Upload successfully\")\n",
    "logging.info(f\"X training set shape:{X_train.shape}\")\n",
    "logging.info(f\"y training set shape:{y_train.shape}\")\n",
    "logging.info(f\"X test set shape:{X_test.shape}\")\n",
    "logging.info(f\"y test set shape:{y_test.shape}\")\n",
    "logging.info(f\"Percent Positive Response {round(percent_positive,2)}%\")\n",
    "print(\"Dataset Upload successfully\")\n",
    "print(f\"X training set shape:{X_train.shape}\")\n",
    "print(f\"y training set shape:{y_train.shape}\")\n",
    "print(f\"X test set shape:{X_test.shape}\")\n",
    "print(f\"y test set shape:{y_test.shape}\")\n",
    "print(f\"Percent Positive Response {round(percent_positive,2)}%\")\n"
   ]
  },
  {
   "cell_type": "code",
   "execution_count": 11,
   "metadata": {},
   "outputs": [],
   "source": [
    "X_train = X_train.reset_index().drop(\"Datetime\", axis = 1)\n",
    "X_train = tf.convert_to_tensor(X_train)\n",
    "X_train = tf.expand_dims(X_train, axis = -1)\n"
   ]
  },
  {
   "cell_type": "code",
   "execution_count": 12,
   "metadata": {},
   "outputs": [],
   "source": [
    "### Global Variables ####\n",
    "batch_size = 256\n",
    "sequence_len = 1440 # Looking at 24 hours worth of data to determine\n",
    "epochs = 1\n",
    "attention_heads = 4\n",
    "projection_dim = 1441\n",
    "dropout = 0.1\n",
    "num_transformer_blocks = 2\n",
    "mlp_units = [2048, 1024]\n",
    "tranformer_mlp_units = [projection_dim * 2, projection_dim]\n"
   ]
  },
  {
   "cell_type": "code",
   "execution_count": 13,
   "metadata": {},
   "outputs": [],
   "source": [
    "### Convert time to a vector that can be encoded to the features ###\n",
    "class Time2Vector(tf.keras.layers.Layer):\n",
    "    def __init__(self, kernal: int = 64):\n",
    "        super().__init__(trainable = True,  name = \"Time2VecLayer\")\n",
    "        self.kernal = kernal - 1\n",
    "        \n",
    "    def build(self, input_shape):\n",
    "        ### Time to Vector Piecewise function ###\n",
    "        \n",
    "        self.weights_linear = self.add_weight(shape = (1, input_shape[1], 1), initializer = \"uniform\", trainable = True, name = \"weights_linear\")\n",
    "        \n",
    "        self.bias_linear = self.add_weight(shape = (1, input_shape[1], 1), initializer = \"uniform\", trainable = True, name = \"bias_linear\")\n",
    "        \n",
    "        self.weights_periodic = self.add_weight(shape = (1, input_shape[1],self.kernal), initializer = \"uniform\", trainable = True, name = \"weights_periodic\")\n",
    "        \n",
    "        self.bias_periodic = self.add_weight(shape = (1, input_shape[1],self.kernal), initializer = \"uniform\", trainable = True, name = \"bias_periodic\")\n",
    "    \n",
    "    def call(self, x):\n",
    "        x = tf.expand_dims(x, axis = -1)\n",
    "        time_linear = (self.weights_linear * x) + self.bias_linear\n",
    "        # time_linear = tf.expand_dims(time_linear, axis = -1) #Expand dimensions to concat later\n",
    "        \n",
    "        time_periodic = tf.math.sin(tf.multiply(x, self.weights_periodic) + self.bias_periodic)\n",
    "        # time_periodic = tf.expand_dims(time_periodic, axis = -1)\n",
    "        \n",
    "        final_product = tf.concat([time_linear, time_periodic], axis = -1)\n",
    "        final_product = tf.expand_dims(final_product, axis = 0)\n",
    "        return final_product\n",
    "    \n",
    "    \n",
    "# test_vector = tf.random.uniform(shape = (1440, 2), dtype = tf.float32)\n",
    "# test_vector\n",
    "# exampleTV = Time2Vector(64)(test_vector)\n",
    "# exampleTV\n",
    "        "
   ]
  },
  {
   "cell_type": "code",
   "execution_count": 14,
   "metadata": {},
   "outputs": [],
   "source": [
    "def mlp_block(x, units):\n",
    "    for unit in units:\n",
    "        x = layers.Dense(unit, activation = tf.nn.gelu)(x)\n",
    "        x = layers.Dropout(0.1)(x)\n",
    "    return x\n",
    "def transformer_encoder(inputs, attention_heads, projection_dim, dropout):\n",
    "    ### Layer Normalization / Multihead Attention Layers ###\n",
    "    x = layers.LayerNormalization(epsilon = 1e-6)(inputs)\n",
    "    x = layers.MultiHeadAttention(num_heads = attention_heads, key_dim = projection_dim, dropout = dropout)(x,x)\n",
    "    skip1 = layers.Add()([x, inputs])\n",
    "    \n",
    "    ### Feed Forward ###\n",
    "    x = layers.LayerNormalization(epsilon = 1e-6)(skip1)\n",
    "    x = mlp_block(x, tranformer_mlp_units)\n",
    "    skip2 = layers.Add()([x,skip1])\n",
    "    \n",
    "    return skip2\n",
    "\n",
    "\n",
    "def build_model():\n",
    "    time_embeddings = Time2Vector(sequence_len)\n",
    "    input = tf.keras.Input(shape = X_train.shape)\n",
    "    time_embedding_input = tf.reshape(tf.squeeze(input), (X_train.shape[:-1]))\n",
    "    x = input\n",
    "    x = time_embeddings(time_embedding_input)\n",
    "    x = tf.keras.layers.Concatenate(axis = -1)([input, x])\n",
    "    for _ in range(num_transformer_blocks):\n",
    "        x = transformer_encoder(x, attention_heads, projection_dim, dropout)\n",
    "    x = tf.squeeze(x)\n",
    "    x = tf.keras.layers.GlobalAveragePooling1D(data_format = \"channels_first\")(x)\n",
    "    x = tf.keras.layers.Dropout(0.1)(x)\n",
    "    x = mlp_block(x, mlp_units)\n",
    "    output = tf.keras.layers.Dense(1, activation = \"softmax\")(x)\n",
    "    \n",
    "    model = tf.keras.Model(inputs = input, outputs = output)\n",
    "\n",
    "    return model"
   ]
  },
  {
   "cell_type": "code",
   "execution_count": 15,
   "metadata": {},
   "outputs": [],
   "source": [
    "def train_model(model):\n",
    "    optimizer = tf.optimizers.Adam(learning_rate=1e-3, decay = 1e-4)\n",
    "    checkpoint_path = \"/models/\"\n",
    "    checkpoint_callback = tf.keras.callbacks.ModelCheckpoint(checkpoint_path, monitor = \"val_Accuracy\", save_best_only = True, save_weights_only = True)\n",
    "    model.compile(optimizer=optimizer, \n",
    "                  loss = tf.keras.losses.CategoricalCrossentropy(),\n",
    "                  metrics = [tf.keras.metrics.CategoricalAccuracy(name = \"Accuracy\")])\n",
    "    \n",
    "    history = model.fit(\n",
    "        x = X_train,\n",
    "        y = y_train,\n",
    "        epochs = epochs,\n",
    "        steps_per_epoch = X_train.shape[0]//batch_size,\n",
    "        callbacks = [checkpoint_callback],\n",
    "        \n",
    "    )\n",
    "    \n",
    "    return history"
   ]
  },
  {
   "cell_type": "code",
   "execution_count": 17,
   "metadata": {},
   "outputs": [
    {
     "data": {
      "text/plain": [
       "<tf.Tensor: shape=(431216, 2, 1), dtype=float64, numpy=\n",
       "array([[[ 2.81168579],\n",
       "        [ 2.82390008]],\n",
       "\n",
       "       [[ 2.82820697],\n",
       "        [ 2.82830922]],\n",
       "\n",
       "       [[ 2.83872044],\n",
       "        [ 2.83535149]],\n",
       "\n",
       "       ...,\n",
       "\n",
       "       [[-0.8303174 ],\n",
       "        [-0.83019217]],\n",
       "\n",
       "       [[-0.8307079 ],\n",
       "        [-0.83134267]],\n",
       "\n",
       "       [[-0.83126361],\n",
       "        [-0.83087326]]])>"
      ]
     },
     "execution_count": 17,
     "metadata": {},
     "output_type": "execute_result"
    }
   ],
   "source": [
    "X_train"
   ]
  },
  {
   "cell_type": "code",
   "execution_count": 16,
   "metadata": {},
   "outputs": [
    {
     "ename": "ValueError",
     "evalue": "in user code:\n\n    File \"/Library/Frameworks/Python.framework/Versions/3.9/lib/python3.9/site-packages/keras/engine/training.py\", line 1051, in train_function  *\n        return step_function(self, iterator)\n    File \"/Library/Frameworks/Python.framework/Versions/3.9/lib/python3.9/site-packages/keras/engine/training.py\", line 1040, in step_function  **\n        outputs = model.distribute_strategy.run(run_step, args=(data,))\n    File \"/Library/Frameworks/Python.framework/Versions/3.9/lib/python3.9/site-packages/keras/engine/training.py\", line 1030, in run_step  **\n        outputs = model.train_step(data)\n    File \"/Library/Frameworks/Python.framework/Versions/3.9/lib/python3.9/site-packages/keras/engine/training.py\", line 889, in train_step\n        y_pred = self(x, training=True)\n    File \"/Library/Frameworks/Python.framework/Versions/3.9/lib/python3.9/site-packages/keras/utils/traceback_utils.py\", line 67, in error_handler\n        raise e.with_traceback(filtered_tb) from None\n    File \"/Library/Frameworks/Python.framework/Versions/3.9/lib/python3.9/site-packages/keras/engine/input_spec.py\", line 264, in assert_input_compatibility\n        raise ValueError(f'Input {input_index} of layer \"{layer_name}\" is '\n\n    ValueError: Input 0 of layer \"model\" is incompatible with the layer: expected shape=(None, 431216, 2, 1), found shape=(None, 2, 1)\n",
     "output_type": "error",
     "traceback": [
      "\u001b[0;31m---------------------------------------------------------------------------\u001b[0m",
      "\u001b[0;31mValueError\u001b[0m                                Traceback (most recent call last)",
      "\u001b[1;32m/Users/hannibalpharathikoune/Documents/GitHub/TimeSeriesTransformer/model.ipynb Cell 9\u001b[0m in \u001b[0;36m<module>\u001b[0;34m\u001b[0m\n\u001b[1;32m      <a href='vscode-notebook-cell:/Users/hannibalpharathikoune/Documents/GitHub/TimeSeriesTransformer/model.ipynb#X10sZmlsZQ%3D%3D?line=0'>1</a>\u001b[0m model \u001b[39m=\u001b[39m build_model()\n\u001b[0;32m----> <a href='vscode-notebook-cell:/Users/hannibalpharathikoune/Documents/GitHub/TimeSeriesTransformer/model.ipynb#X10sZmlsZQ%3D%3D?line=1'>2</a>\u001b[0m training \u001b[39m=\u001b[39m train_model(model)\n",
      "\u001b[1;32m/Users/hannibalpharathikoune/Documents/GitHub/TimeSeriesTransformer/model.ipynb Cell 9\u001b[0m in \u001b[0;36mtrain_model\u001b[0;34m(model)\u001b[0m\n\u001b[1;32m      <a href='vscode-notebook-cell:/Users/hannibalpharathikoune/Documents/GitHub/TimeSeriesTransformer/model.ipynb#X10sZmlsZQ%3D%3D?line=3'>4</a>\u001b[0m checkpoint_callback \u001b[39m=\u001b[39m tf\u001b[39m.\u001b[39mkeras\u001b[39m.\u001b[39mcallbacks\u001b[39m.\u001b[39mModelCheckpoint(checkpoint_path, monitor \u001b[39m=\u001b[39m \u001b[39m\"\u001b[39m\u001b[39mval_Accuracy\u001b[39m\u001b[39m\"\u001b[39m, save_best_only \u001b[39m=\u001b[39m \u001b[39mTrue\u001b[39;00m, save_weights_only \u001b[39m=\u001b[39m \u001b[39mTrue\u001b[39;00m)\n\u001b[1;32m      <a href='vscode-notebook-cell:/Users/hannibalpharathikoune/Documents/GitHub/TimeSeriesTransformer/model.ipynb#X10sZmlsZQ%3D%3D?line=4'>5</a>\u001b[0m model\u001b[39m.\u001b[39mcompile(optimizer\u001b[39m=\u001b[39moptimizer, \n\u001b[1;32m      <a href='vscode-notebook-cell:/Users/hannibalpharathikoune/Documents/GitHub/TimeSeriesTransformer/model.ipynb#X10sZmlsZQ%3D%3D?line=5'>6</a>\u001b[0m               loss \u001b[39m=\u001b[39m tf\u001b[39m.\u001b[39mkeras\u001b[39m.\u001b[39mlosses\u001b[39m.\u001b[39mCategoricalCrossentropy(),\n\u001b[1;32m      <a href='vscode-notebook-cell:/Users/hannibalpharathikoune/Documents/GitHub/TimeSeriesTransformer/model.ipynb#X10sZmlsZQ%3D%3D?line=6'>7</a>\u001b[0m               metrics \u001b[39m=\u001b[39m [tf\u001b[39m.\u001b[39mkeras\u001b[39m.\u001b[39mmetrics\u001b[39m.\u001b[39mCategoricalAccuracy(name \u001b[39m=\u001b[39m \u001b[39m\"\u001b[39m\u001b[39mAccuracy\u001b[39m\u001b[39m\"\u001b[39m)])\n\u001b[0;32m----> <a href='vscode-notebook-cell:/Users/hannibalpharathikoune/Documents/GitHub/TimeSeriesTransformer/model.ipynb#X10sZmlsZQ%3D%3D?line=8'>9</a>\u001b[0m history \u001b[39m=\u001b[39m model\u001b[39m.\u001b[39;49mfit(\n\u001b[1;32m     <a href='vscode-notebook-cell:/Users/hannibalpharathikoune/Documents/GitHub/TimeSeriesTransformer/model.ipynb#X10sZmlsZQ%3D%3D?line=9'>10</a>\u001b[0m     x \u001b[39m=\u001b[39;49m X_train,\n\u001b[1;32m     <a href='vscode-notebook-cell:/Users/hannibalpharathikoune/Documents/GitHub/TimeSeriesTransformer/model.ipynb#X10sZmlsZQ%3D%3D?line=10'>11</a>\u001b[0m     y \u001b[39m=\u001b[39;49m y_train,\n\u001b[1;32m     <a href='vscode-notebook-cell:/Users/hannibalpharathikoune/Documents/GitHub/TimeSeriesTransformer/model.ipynb#X10sZmlsZQ%3D%3D?line=11'>12</a>\u001b[0m     epochs \u001b[39m=\u001b[39;49m epochs,\n\u001b[1;32m     <a href='vscode-notebook-cell:/Users/hannibalpharathikoune/Documents/GitHub/TimeSeriesTransformer/model.ipynb#X10sZmlsZQ%3D%3D?line=12'>13</a>\u001b[0m     steps_per_epoch \u001b[39m=\u001b[39;49m X_train\u001b[39m.\u001b[39;49mshape[\u001b[39m0\u001b[39;49m]\u001b[39m/\u001b[39;49m\u001b[39m/\u001b[39;49mbatch_size,\n\u001b[1;32m     <a href='vscode-notebook-cell:/Users/hannibalpharathikoune/Documents/GitHub/TimeSeriesTransformer/model.ipynb#X10sZmlsZQ%3D%3D?line=13'>14</a>\u001b[0m     callbacks \u001b[39m=\u001b[39;49m [checkpoint_callback],\n\u001b[1;32m     <a href='vscode-notebook-cell:/Users/hannibalpharathikoune/Documents/GitHub/TimeSeriesTransformer/model.ipynb#X10sZmlsZQ%3D%3D?line=14'>15</a>\u001b[0m     \n\u001b[1;32m     <a href='vscode-notebook-cell:/Users/hannibalpharathikoune/Documents/GitHub/TimeSeriesTransformer/model.ipynb#X10sZmlsZQ%3D%3D?line=15'>16</a>\u001b[0m )\n\u001b[1;32m     <a href='vscode-notebook-cell:/Users/hannibalpharathikoune/Documents/GitHub/TimeSeriesTransformer/model.ipynb#X10sZmlsZQ%3D%3D?line=17'>18</a>\u001b[0m \u001b[39mreturn\u001b[39;00m history\n",
      "File \u001b[0;32m/Library/Frameworks/Python.framework/Versions/3.9/lib/python3.9/site-packages/keras/utils/traceback_utils.py:67\u001b[0m, in \u001b[0;36mfilter_traceback.<locals>.error_handler\u001b[0;34m(*args, **kwargs)\u001b[0m\n\u001b[1;32m     65\u001b[0m \u001b[39mexcept\u001b[39;00m \u001b[39mException\u001b[39;00m \u001b[39mas\u001b[39;00m e:  \u001b[39m# pylint: disable=broad-except\u001b[39;00m\n\u001b[1;32m     66\u001b[0m   filtered_tb \u001b[39m=\u001b[39m _process_traceback_frames(e\u001b[39m.\u001b[39m__traceback__)\n\u001b[0;32m---> 67\u001b[0m   \u001b[39mraise\u001b[39;00m e\u001b[39m.\u001b[39mwith_traceback(filtered_tb) \u001b[39mfrom\u001b[39;00m \u001b[39mNone\u001b[39m\n\u001b[1;32m     68\u001b[0m \u001b[39mfinally\u001b[39;00m:\n\u001b[1;32m     69\u001b[0m   \u001b[39mdel\u001b[39;00m filtered_tb\n",
      "File \u001b[0;32m/var/folders/40/68bz9r3s7_zcf5258pd56rx00000gn/T/__autograph_generated_filebtzoeq0i.py:15\u001b[0m, in \u001b[0;36mouter_factory.<locals>.inner_factory.<locals>.tf__train_function\u001b[0;34m(iterator)\u001b[0m\n\u001b[1;32m     13\u001b[0m \u001b[39mtry\u001b[39;00m:\n\u001b[1;32m     14\u001b[0m     do_return \u001b[39m=\u001b[39m \u001b[39mTrue\u001b[39;00m\n\u001b[0;32m---> 15\u001b[0m     retval_ \u001b[39m=\u001b[39m ag__\u001b[39m.\u001b[39mconverted_call(ag__\u001b[39m.\u001b[39mld(step_function), (ag__\u001b[39m.\u001b[39mld(\u001b[39mself\u001b[39m), ag__\u001b[39m.\u001b[39mld(iterator)), \u001b[39mNone\u001b[39;00m, fscope)\n\u001b[1;32m     16\u001b[0m \u001b[39mexcept\u001b[39;00m:\n\u001b[1;32m     17\u001b[0m     do_return \u001b[39m=\u001b[39m \u001b[39mFalse\u001b[39;00m\n",
      "\u001b[0;31mValueError\u001b[0m: in user code:\n\n    File \"/Library/Frameworks/Python.framework/Versions/3.9/lib/python3.9/site-packages/keras/engine/training.py\", line 1051, in train_function  *\n        return step_function(self, iterator)\n    File \"/Library/Frameworks/Python.framework/Versions/3.9/lib/python3.9/site-packages/keras/engine/training.py\", line 1040, in step_function  **\n        outputs = model.distribute_strategy.run(run_step, args=(data,))\n    File \"/Library/Frameworks/Python.framework/Versions/3.9/lib/python3.9/site-packages/keras/engine/training.py\", line 1030, in run_step  **\n        outputs = model.train_step(data)\n    File \"/Library/Frameworks/Python.framework/Versions/3.9/lib/python3.9/site-packages/keras/engine/training.py\", line 889, in train_step\n        y_pred = self(x, training=True)\n    File \"/Library/Frameworks/Python.framework/Versions/3.9/lib/python3.9/site-packages/keras/utils/traceback_utils.py\", line 67, in error_handler\n        raise e.with_traceback(filtered_tb) from None\n    File \"/Library/Frameworks/Python.framework/Versions/3.9/lib/python3.9/site-packages/keras/engine/input_spec.py\", line 264, in assert_input_compatibility\n        raise ValueError(f'Input {input_index} of layer \"{layer_name}\" is '\n\n    ValueError: Input 0 of layer \"model\" is incompatible with the layer: expected shape=(None, 431216, 2, 1), found shape=(None, 2, 1)\n"
     ]
    }
   ],
   "source": [
    "model = build_model()\n",
    "training = train_model(model)"
   ]
  }
 ],
 "metadata": {
  "kernelspec": {
   "display_name": "Python 3",
   "language": "python",
   "name": "python3"
  },
  "language_info": {
   "codemirror_mode": {
    "name": "ipython",
    "version": 3
   },
   "file_extension": ".py",
   "mimetype": "text/x-python",
   "name": "python",
   "nbconvert_exporter": "python",
   "pygments_lexer": "ipython3",
   "version": "3.9.0"
  },
  "orig_nbformat": 4,
  "vscode": {
   "interpreter": {
    "hash": "aee8b7b246df8f9039afb4144a1f6fd8d2ca17a180786b69acc140d282b71a49"
   }
  }
 },
 "nbformat": 4,
 "nbformat_minor": 2
}
